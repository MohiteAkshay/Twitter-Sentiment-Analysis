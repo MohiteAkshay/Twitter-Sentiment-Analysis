{
  "nbformat": 4,
  "nbformat_minor": 0,
  "metadata": {
    "colab": {
      "name": "Twitter Sentiment Analysis Using Deep Transfer Learning.ipynb",
      "provenance": [],
      "authorship_tag": "ABX9TyNwwn4wzvmiHIgtLbx+yGRF",
      "include_colab_link": true
    },
    "kernelspec": {
      "name": "python3",
      "display_name": "Python 3"
    },
    "accelerator": "GPU"
  },
  "cells": [
    {
      "cell_type": "markdown",
      "metadata": {
        "id": "view-in-github",
        "colab_type": "text"
      },
      "source": [
        "<a href=\"https://colab.research.google.com/github/MohiteAkshay/Twitter-Sentiment-Analysis/blob/master/Twitter_Sentiment_Analysis_Using_Deep_Transfer_Learning.ipynb\" target=\"_parent\"><img src=\"https://colab.research.google.com/assets/colab-badge.svg\" alt=\"Open In Colab\"/></a>"
      ]
    },
    {
      "cell_type": "code",
      "metadata": {
        "id": "QPTfiDoxiW5D",
        "colab_type": "code",
        "colab": {}
      },
      "source": [
        "%reload_ext autoreload\n",
        "%autoreload 2\n",
        "%matplotlib inline\n",
        "import pandas as pd\n",
        "import numpy as np\n",
        "from fastai.text import *"
      ],
      "execution_count": 4,
      "outputs": []
    },
    {
      "cell_type": "code",
      "metadata": {
        "id": "J93PZ4Ldiuyr",
        "colab_type": "code",
        "colab": {
          "base_uri": "https://localhost:8080/",
          "height": 195
        },
        "outputId": "d95bb4af-da42-4c62-8de0-8ae68be1087d"
      },
      "source": [
        "df=pd.read_csv('/content/train.csv')\n",
        "test=pd.read_csv('/content/test.csv')\n",
        "df.head()"
      ],
      "execution_count": 141,
      "outputs": [
        {
          "output_type": "execute_result",
          "data": {
            "text/html": [
              "<div>\n",
              "<style scoped>\n",
              "    .dataframe tbody tr th:only-of-type {\n",
              "        vertical-align: middle;\n",
              "    }\n",
              "\n",
              "    .dataframe tbody tr th {\n",
              "        vertical-align: top;\n",
              "    }\n",
              "\n",
              "    .dataframe thead th {\n",
              "        text-align: right;\n",
              "    }\n",
              "</style>\n",
              "<table border=\"1\" class=\"dataframe\">\n",
              "  <thead>\n",
              "    <tr style=\"text-align: right;\">\n",
              "      <th></th>\n",
              "      <th>tweet_id</th>\n",
              "      <th>tweet</th>\n",
              "      <th>sentiment</th>\n",
              "    </tr>\n",
              "  </thead>\n",
              "  <tbody>\n",
              "    <tr>\n",
              "      <th>0</th>\n",
              "      <td>1701</td>\n",
              "      <td>#sxswnui #sxsw #apple defining language of tou...</td>\n",
              "      <td>1</td>\n",
              "    </tr>\n",
              "    <tr>\n",
              "      <th>1</th>\n",
              "      <td>1851</td>\n",
              "      <td>Learning ab Google doodles! All doodles should...</td>\n",
              "      <td>1</td>\n",
              "    </tr>\n",
              "    <tr>\n",
              "      <th>2</th>\n",
              "      <td>2689</td>\n",
              "      <td>one of the most in-your-face ex. of stealing t...</td>\n",
              "      <td>2</td>\n",
              "    </tr>\n",
              "    <tr>\n",
              "      <th>3</th>\n",
              "      <td>4525</td>\n",
              "      <td>This iPhone #SXSW app would b pretty awesome i...</td>\n",
              "      <td>0</td>\n",
              "    </tr>\n",
              "    <tr>\n",
              "      <th>4</th>\n",
              "      <td>3604</td>\n",
              "      <td>Line outside the Apple store in Austin waiting...</td>\n",
              "      <td>1</td>\n",
              "    </tr>\n",
              "  </tbody>\n",
              "</table>\n",
              "</div>"
            ],
            "text/plain": [
              "   tweet_id                                              tweet  sentiment\n",
              "0      1701  #sxswnui #sxsw #apple defining language of tou...          1\n",
              "1      1851  Learning ab Google doodles! All doodles should...          1\n",
              "2      2689  one of the most in-your-face ex. of stealing t...          2\n",
              "3      4525  This iPhone #SXSW app would b pretty awesome i...          0\n",
              "4      3604  Line outside the Apple store in Austin waiting...          1"
            ]
          },
          "metadata": {
            "tags": []
          },
          "execution_count": 141
        }
      ]
    },
    {
      "cell_type": "code",
      "metadata": {
        "id": "LlUegujhkpg_",
        "colab_type": "code",
        "colab": {
          "base_uri": "https://localhost:8080/",
          "height": 70
        },
        "outputId": "e6a61d65-3daa-4a2c-c17f-ec119f411b94"
      },
      "source": [
        "df.isnull().sum() "
      ],
      "execution_count": 142,
      "outputs": [
        {
          "output_type": "execute_result",
          "data": {
            "text/plain": [
              "tweet_id    0\n",
              "tweet       0\n",
              "dtype: int64"
            ]
          },
          "metadata": {
            "tags": []
          },
          "execution_count": 142
        }
      ]
    },
    {
      "cell_type": "code",
      "metadata": {
        "id": "YgX9myaB40F4",
        "colab_type": "code",
        "colab": {
          "base_uri": "https://localhost:8080/",
          "height": 70
        },
        "outputId": "ebac0c1b-8123-4ea7-d0de-0722cda8c50f"
      },
      "source": [
        "test.isnull().sum()"
      ],
      "execution_count": 143,
      "outputs": [
        {
          "output_type": "execute_result",
          "data": {
            "text/plain": [
              "tweet_id    0\n",
              "tweet       0\n",
              "dtype: int64"
            ]
          },
          "metadata": {
            "tags": []
          },
          "execution_count": 143
        }
      ]
    },
    {
      "cell_type": "code",
      "metadata": {
        "id": "Rxk7HTzIl9-b",
        "colab_type": "code",
        "colab": {}
      },
      "source": [
        "df.rename(columns={'sentiment':'target'}, inplace=True)"
      ],
      "execution_count": 23,
      "outputs": []
    },
    {
      "cell_type": "code",
      "metadata": {
        "id": "gtSfdAdQkuIF",
        "colab_type": "code",
        "colab": {}
      },
      "source": [
        "df.dropna(axis=0, inplace=True)"
      ],
      "execution_count": 24,
      "outputs": []
    },
    {
      "cell_type": "code",
      "metadata": {
        "id": "alk8T7tAmjRN",
        "colab_type": "code",
        "colab": {
          "base_uri": "https://localhost:8080/",
          "height": 195
        },
        "outputId": "1c403f82-0e22-4d9d-fb77-9cff904fc6bf"
      },
      "source": [
        "df.head()"
      ],
      "execution_count": 25,
      "outputs": [
        {
          "output_type": "execute_result",
          "data": {
            "text/html": [
              "<div>\n",
              "<style scoped>\n",
              "    .dataframe tbody tr th:only-of-type {\n",
              "        vertical-align: middle;\n",
              "    }\n",
              "\n",
              "    .dataframe tbody tr th {\n",
              "        vertical-align: top;\n",
              "    }\n",
              "\n",
              "    .dataframe thead th {\n",
              "        text-align: right;\n",
              "    }\n",
              "</style>\n",
              "<table border=\"1\" class=\"dataframe\">\n",
              "  <thead>\n",
              "    <tr style=\"text-align: right;\">\n",
              "      <th></th>\n",
              "      <th>tweet_id</th>\n",
              "      <th>tweet</th>\n",
              "      <th>target</th>\n",
              "    </tr>\n",
              "  </thead>\n",
              "  <tbody>\n",
              "    <tr>\n",
              "      <th>0</th>\n",
              "      <td>1701</td>\n",
              "      <td>#sxswnui #sxsw #apple defining language of tou...</td>\n",
              "      <td>1</td>\n",
              "    </tr>\n",
              "    <tr>\n",
              "      <th>1</th>\n",
              "      <td>1851</td>\n",
              "      <td>Learning ab Google doodles! All doodles should...</td>\n",
              "      <td>1</td>\n",
              "    </tr>\n",
              "    <tr>\n",
              "      <th>2</th>\n",
              "      <td>2689</td>\n",
              "      <td>one of the most in-your-face ex. of stealing t...</td>\n",
              "      <td>2</td>\n",
              "    </tr>\n",
              "    <tr>\n",
              "      <th>3</th>\n",
              "      <td>4525</td>\n",
              "      <td>This iPhone #SXSW app would b pretty awesome i...</td>\n",
              "      <td>0</td>\n",
              "    </tr>\n",
              "    <tr>\n",
              "      <th>4</th>\n",
              "      <td>3604</td>\n",
              "      <td>Line outside the Apple store in Austin waiting...</td>\n",
              "      <td>1</td>\n",
              "    </tr>\n",
              "  </tbody>\n",
              "</table>\n",
              "</div>"
            ],
            "text/plain": [
              "   tweet_id                                              tweet  target\n",
              "0      1701  #sxswnui #sxsw #apple defining language of tou...       1\n",
              "1      1851  Learning ab Google doodles! All doodles should...       1\n",
              "2      2689  one of the most in-your-face ex. of stealing t...       2\n",
              "3      4525  This iPhone #SXSW app would b pretty awesome i...       0\n",
              "4      3604  Line outside the Apple store in Austin waiting...       1"
            ]
          },
          "metadata": {
            "tags": []
          },
          "execution_count": 25
        }
      ]
    },
    {
      "cell_type": "code",
      "metadata": {
        "id": "uQWsGSgumy2V",
        "colab_type": "code",
        "colab": {
          "base_uri": "https://localhost:8080/",
          "height": 105
        },
        "outputId": "86821834-2180-4300-bf6f-c902802c9f3d"
      },
      "source": [
        "df['target'].value_counts()"
      ],
      "execution_count": 30,
      "outputs": [
        {
          "output_type": "execute_result",
          "data": {
            "text/plain": [
              "1    4310\n",
              "2    2382\n",
              "0     456\n",
              "3     125\n",
              "Name: target, dtype: int64"
            ]
          },
          "metadata": {
            "tags": []
          },
          "execution_count": 30
        }
      ]
    },
    {
      "cell_type": "code",
      "metadata": {
        "id": "2cXqKjaH5YVU",
        "colab_type": "code",
        "colab": {
          "base_uri": "https://localhost:8080/",
          "height": 34
        },
        "outputId": "73db99eb-43e6-45bf-b90e-70343280b1fd"
      },
      "source": [
        "test.shape"
      ],
      "execution_count": 149,
      "outputs": [
        {
          "output_type": "execute_result",
          "data": {
            "text/plain": [
              "(1819, 2)"
            ]
          },
          "metadata": {
            "tags": []
          },
          "execution_count": 149
        }
      ]
    },
    {
      "cell_type": "code",
      "metadata": {
        "id": "gWJETk1xk7i5",
        "colab_type": "code",
        "colab": {}
      },
      "source": [
        "df.to_csv('tweet.csv', index=False)"
      ],
      "execution_count": 26,
      "outputs": []
    },
    {
      "cell_type": "code",
      "metadata": {
        "id": "WIhlOKFeke8J",
        "colab_type": "code",
        "colab": {}
      },
      "source": [
        "path='/content'"
      ],
      "execution_count": 17,
      "outputs": []
    },
    {
      "cell_type": "code",
      "metadata": {
        "id": "VQq7EIO2jA35",
        "colab_type": "code",
        "colab": {
          "base_uri": "https://localhost:8080/",
          "height": 17
        },
        "outputId": "10828cb4-596f-46ba-d0d1-8ea7792c1795"
      },
      "source": [
        "text_enc= TextLMDataBunch.from_csv(path, valid_pct=0.2, test='test.csv',\n",
        "                                   csv_name='tweet.csv', \n",
        "                                   text_cols='tweet', \n",
        "                                   label_cols='target')"
      ],
      "execution_count": 145,
      "outputs": [
        {
          "output_type": "display_data",
          "data": {
            "text/html": [
              ""
            ],
            "text/plain": [
              "<IPython.core.display.HTML object>"
            ]
          },
          "metadata": {
            "tags": []
          }
        },
        {
          "output_type": "display_data",
          "data": {
            "text/html": [
              ""
            ],
            "text/plain": [
              "<IPython.core.display.HTML object>"
            ]
          },
          "metadata": {
            "tags": []
          }
        },
        {
          "output_type": "display_data",
          "data": {
            "text/html": [
              ""
            ],
            "text/plain": [
              "<IPython.core.display.HTML object>"
            ]
          },
          "metadata": {
            "tags": []
          }
        }
      ]
    },
    {
      "cell_type": "code",
      "metadata": {
        "id": "66u1XpehjAT3",
        "colab_type": "code",
        "colab": {
          "base_uri": "https://localhost:8080/",
          "height": 424
        },
        "outputId": "11976e5e-8895-4cd3-b606-da29e5cdffe2"
      },
      "source": [
        "text_enc"
      ],
      "execution_count": 147,
      "outputs": [
        {
          "output_type": "execute_result",
          "data": {
            "text/plain": [
              "TextLMDataBunch;\n",
              "\n",
              "Train: LabelList (5818 items)\n",
              "x: LMTextList\n",
              "xxbos 2 years of time saved every day by people qho use google maps & ' route around & ' feature # sxsw,xxbos xxup rt @mention # xxup sxsw i need the best android dev here . xxmaj html5 / xxup js issue need solving quickly . xxmaj handsome reward and love for grabs . # in,xxbos # xxup sxsw hire qualified and talented women consciously early on in # startups to achieve success - xxmaj google did !,xxbos @mention i 'm glad i do n't have an ipad 2 ... i think . # sxsw,xxbos xxup rt @mention xxmaj sound of xxmaj my xxmaj voice was shot exploiting xxmaj apple & & xxmaj best xxmaj buy 's 14-day return policy on imacs . xxmaj brilliant . # sxsw\n",
              "y: LMLabelList\n",
              ",,,,\n",
              "Path: /content;\n",
              "\n",
              "Valid: LabelList (1455 items)\n",
              "x: LMTextList\n",
              "xxbos xxmaj at # xxup sxsw ? ? xxunk @mention @mention @mention are there giving ipad demos of xxunk xxup xxunk ! xxmaj tweet them to check it out !,xxbos xxup rt @mention xxmaj learnt from @mention that there are more xxmaj google searches for xxmaj xxunk than xxmaj star xxmaj wars but not by much # sxsw # xxunk,xxbos 25 indie songs that rock : xxmaj xxunk xxmaj artists # xxup sxsw : xxmaj featured xxmaj artists - { link } # itunes,xxbos @mention power xxunk in the internet industry xxunk down to & ' who is the platform & & who is the app ? & ' see xxmaj facebook on ipad . # sxsw,xxbos # bjdproductions # xxmaj apple heads to # xxup sxsw , sets up temporary store in xxmaj austin { link } # tech\n",
              "y: LMLabelList\n",
              ",,,,\n",
              "Path: /content;\n",
              "\n",
              "Test: LabelList (1819 items)\n",
              "x: LMTextList\n",
              "xxbos xxmaj audience q : xxmaj what prototyping tools do you use ? xxmaj xxunk / xxunk xxunk , xxunk , xxmaj xxunk , xxmaj google docs , xxmaj xxunk , etc . # xxunk # sxsw,xxbos xxmaj at xxup sxsw ? xxmaj send xxmaj your xxmaj best xxmaj photos & & xxmaj videos to ... { link } # xxunk # cnn # ireport # photography # sxsw # xxmaj cyber # iphone,xxbos @mention and here 's a pic of you winning your ipad ! # xxunk # sxsw cc @mention @mention { link } ( cont ) { link },xxbos xxmaj google xxmaj marissa xxmaj mayer : mobile phone as a cursor of physical location - new version of map fast and more real life like # sxsw,xxbos # xxup sxsw xxmaj google maps is even cooler than i thought\n",
              "y: EmptyLabelList\n",
              ",,,,\n",
              "Path: /content"
            ]
          },
          "metadata": {
            "tags": []
          },
          "execution_count": 147
        }
      ]
    },
    {
      "cell_type": "code",
      "metadata": {
        "id": "9RpgsJ32i_20",
        "colab_type": "code",
        "colab": {
          "base_uri": "https://localhost:8080/",
          "height": 72
        },
        "outputId": "ea76164e-6665-4aa5-eda4-04fb3067ea3e"
      },
      "source": [
        "text_enc.train_ds[3]"
      ],
      "execution_count": 150,
      "outputs": [
        {
          "output_type": "execute_result",
          "data": {
            "text/plain": [
              "(Text [   2   11   38  111 1159   38   78   71   74   50   24   42   60   38  171   12    9   10],\n",
              " EmptyLabel 0)"
            ]
          },
          "metadata": {
            "tags": []
          },
          "execution_count": 150
        }
      ]
    },
    {
      "cell_type": "code",
      "metadata": {
        "id": "hruKQ9Yli_vd",
        "colab_type": "code",
        "colab": {}
      },
      "source": [
        "learn= language_model_learner(text_enc, AWD_LSTM, drop_mult=0.3)"
      ],
      "execution_count": 151,
      "outputs": []
    },
    {
      "cell_type": "code",
      "metadata": {
        "id": "kt-JXYlTi_sG",
        "colab_type": "code",
        "colab": {
          "base_uri": "https://localhost:8080/",
          "height": 170
        },
        "outputId": "a03db518-7f64-4181-c564-8a603d8d5240"
      },
      "source": [
        "learn.lr_find()"
      ],
      "execution_count": 152,
      "outputs": [
        {
          "output_type": "display_data",
          "data": {
            "text/html": [
              "\n",
              "    <div>\n",
              "        <style>\n",
              "            /* Turns off some styling */\n",
              "            progress {\n",
              "                /* gets rid of default border in Firefox and Opera. */\n",
              "                border: none;\n",
              "                /* Needs to be in here for Safari polyfill so background images work as expected. */\n",
              "                background-size: auto;\n",
              "            }\n",
              "            .progress-bar-interrupted, .progress-bar-interrupted::-webkit-progress-bar {\n",
              "                background: #F44336;\n",
              "            }\n",
              "        </style>\n",
              "      <progress value='2' class='' max='3' style='width:300px; height:20px; vertical-align: middle;'></progress>\n",
              "      66.67% [2/3 00:10<00:05]\n",
              "    </div>\n",
              "    \n",
              "<table border=\"1\" class=\"dataframe\">\n",
              "  <thead>\n",
              "    <tr style=\"text-align: left;\">\n",
              "      <th>epoch</th>\n",
              "      <th>train_loss</th>\n",
              "      <th>valid_loss</th>\n",
              "      <th>accuracy</th>\n",
              "      <th>time</th>\n",
              "    </tr>\n",
              "  </thead>\n",
              "  <tbody>\n",
              "    <tr>\n",
              "      <td>0</td>\n",
              "      <td>6.380997</td>\n",
              "      <td>#na#</td>\n",
              "      <td>00:05</td>\n",
              "    </tr>\n",
              "    <tr>\n",
              "      <td>1</td>\n",
              "      <td>5.566583</td>\n",
              "      <td>#na#</td>\n",
              "      <td>00:05</td>\n",
              "    </tr>\n",
              "  </tbody>\n",
              "</table><p>\n",
              "\n",
              "    <div>\n",
              "        <style>\n",
              "            /* Turns off some styling */\n",
              "            progress {\n",
              "                /* gets rid of default border in Firefox and Opera. */\n",
              "                border: none;\n",
              "                /* Needs to be in here for Safari polyfill so background images work as expected. */\n",
              "                background-size: auto;\n",
              "            }\n",
              "            .progress-bar-interrupted, .progress-bar-interrupted::-webkit-progress-bar {\n",
              "                background: #F44336;\n",
              "            }\n",
              "        </style>\n",
              "      <progress value='23' class='' max='38' style='width:300px; height:20px; vertical-align: middle;'></progress>\n",
              "      60.53% [23/38 00:03<00:01 7.9699]\n",
              "    </div>\n",
              "    "
            ],
            "text/plain": [
              "<IPython.core.display.HTML object>"
            ]
          },
          "metadata": {
            "tags": []
          }
        },
        {
          "output_type": "stream",
          "text": [
            "LR Finder is complete, type {learner_name}.recorder.plot() to see the graph.\n"
          ],
          "name": "stdout"
        }
      ]
    },
    {
      "cell_type": "code",
      "metadata": {
        "id": "9JCOksrsi_ow",
        "colab_type": "code",
        "colab": {
          "base_uri": "https://localhost:8080/",
          "height": 279
        },
        "outputId": "26d14c75-27b8-4655-b2c8-2776dba599c6"
      },
      "source": [
        "learn.recorder.plot()"
      ],
      "execution_count": 153,
      "outputs": [
        {
          "output_type": "display_data",
          "data": {
            "image/png": "[encoded data removed]",
            "text/plain": [
              "<Figure size 432x288 with 1 Axes>"
            ]
          },
          "metadata": {
            "tags": [],
            "needs_background": "light"
          }
        }
      ]
    },
    {
      "cell_type": "code",
      "metadata": {
        "id": "wpBVzS_fiuXn",
        "colab_type": "code",
        "colab": {
          "base_uri": "https://localhost:8080/",
          "height": 343
        },
        "outputId": "c0d4aeb3-0a6d-42b7-f51d-18d5d0f3f081"
      },
      "source": [
        "learn.fit_one_cycle(10, 4e-2)"
      ],
      "execution_count": 154,
      "outputs": [
        {
          "output_type": "display_data",
          "data": {
            "text/html": [
              "<table border=\"1\" class=\"dataframe\">\n",
              "  <thead>\n",
              "    <tr style=\"text-align: left;\">\n",
              "      <th>epoch</th>\n",
              "      <th>train_loss</th>\n",
              "      <th>valid_loss</th>\n",
              "      <th>accuracy</th>\n",
              "      <th>time</th>\n",
              "    </tr>\n",
              "  </thead>\n",
              "  <tbody>\n",
              "    <tr>\n",
              "      <td>0</td>\n",
              "      <td>4.914973</td>\n",
              "      <td>3.791260</td>\n",
              "      <td>0.307165</td>\n",
              "      <td>00:05</td>\n",
              "    </tr>\n",
              "    <tr>\n",
              "      <td>1</td>\n",
              "      <td>3.859684</td>\n",
              "      <td>3.119527</td>\n",
              "      <td>0.384911</td>\n",
              "      <td>00:05</td>\n",
              "    </tr>\n",
              "    <tr>\n",
              "      <td>2</td>\n",
              "      <td>3.256327</td>\n",
              "      <td>2.984895</td>\n",
              "      <td>0.413839</td>\n",
              "      <td>00:05</td>\n",
              "    </tr>\n",
              "    <tr>\n",
              "      <td>3</td>\n",
              "      <td>2.863582</td>\n",
              "      <td>2.915584</td>\n",
              "      <td>0.429777</td>\n",
              "      <td>00:05</td>\n",
              "    </tr>\n",
              "    <tr>\n",
              "      <td>4</td>\n",
              "      <td>2.567958</td>\n",
              "      <td>2.868850</td>\n",
              "      <td>0.447031</td>\n",
              "      <td>00:05</td>\n",
              "    </tr>\n",
              "    <tr>\n",
              "      <td>5</td>\n",
              "      <td>2.323200</td>\n",
              "      <td>2.826189</td>\n",
              "      <td>0.457612</td>\n",
              "      <td>00:05</td>\n",
              "    </tr>\n",
              "    <tr>\n",
              "      <td>6</td>\n",
              "      <td>2.111638</td>\n",
              "      <td>2.808463</td>\n",
              "      <td>0.466987</td>\n",
              "      <td>00:05</td>\n",
              "    </tr>\n",
              "    <tr>\n",
              "      <td>7</td>\n",
              "      <td>1.936927</td>\n",
              "      <td>2.794558</td>\n",
              "      <td>0.473437</td>\n",
              "      <td>00:05</td>\n",
              "    </tr>\n",
              "    <tr>\n",
              "      <td>8</td>\n",
              "      <td>1.814343</td>\n",
              "      <td>2.787626</td>\n",
              "      <td>0.476853</td>\n",
              "      <td>00:05</td>\n",
              "    </tr>\n",
              "    <tr>\n",
              "      <td>9</td>\n",
              "      <td>1.743405</td>\n",
              "      <td>2.787468</td>\n",
              "      <td>0.476830</td>\n",
              "      <td>00:05</td>\n",
              "    </tr>\n",
              "  </tbody>\n",
              "</table>"
            ],
            "text/plain": [
              "<IPython.core.display.HTML object>"
            ]
          },
          "metadata": {
            "tags": []
          }
        }
      ]
    },
    {
      "cell_type": "code",
      "metadata": {
        "id": "1DNpBYO-iuS8",
        "colab_type": "code",
        "colab": {}
      },
      "source": [
        "learn.save('Encoder')"
      ],
      "execution_count": 155,
      "outputs": []
    },
    {
      "cell_type": "code",
      "metadata": {
        "id": "GzFWrsYCte-p",
        "colab_type": "code",
        "colab": {}
      },
      "source": [
        "learn.load('Encoder')"
      ],
      "execution_count": null,
      "outputs": []
    },
    {
      "cell_type": "code",
      "metadata": {
        "id": "TDTPEQJvteYR",
        "colab_type": "code",
        "colab": {}
      },
      "source": [
        "learn.unfreeze()"
      ],
      "execution_count": 157,
      "outputs": []
    },
    {
      "cell_type": "code",
      "metadata": {
        "id": "UXaXbFnot1mv",
        "colab_type": "code",
        "colab": {
          "base_uri": "https://localhost:8080/",
          "height": 195
        },
        "outputId": "a60a2c58-112b-4dc1-bd37-cd5ed26f6c78"
      },
      "source": [
        "learn.fit_one_cycle(5, 1e-3)"
      ],
      "execution_count": 158,
      "outputs": [
        {
          "output_type": "display_data",
          "data": {
            "text/html": [
              "<table border=\"1\" class=\"dataframe\">\n",
              "  <thead>\n",
              "    <tr style=\"text-align: left;\">\n",
              "      <th>epoch</th>\n",
              "      <th>train_loss</th>\n",
              "      <th>valid_loss</th>\n",
              "      <th>accuracy</th>\n",
              "      <th>time</th>\n",
              "    </tr>\n",
              "  </thead>\n",
              "  <tbody>\n",
              "    <tr>\n",
              "      <td>0</td>\n",
              "      <td>1.630654</td>\n",
              "      <td>2.754761</td>\n",
              "      <td>0.489933</td>\n",
              "      <td>00:07</td>\n",
              "    </tr>\n",
              "    <tr>\n",
              "      <td>1</td>\n",
              "      <td>1.565449</td>\n",
              "      <td>2.711920</td>\n",
              "      <td>0.506786</td>\n",
              "      <td>00:07</td>\n",
              "    </tr>\n",
              "    <tr>\n",
              "      <td>2</td>\n",
              "      <td>1.420686</td>\n",
              "      <td>2.733659</td>\n",
              "      <td>0.518795</td>\n",
              "      <td>00:07</td>\n",
              "    </tr>\n",
              "    <tr>\n",
              "      <td>3</td>\n",
              "      <td>1.246825</td>\n",
              "      <td>2.761081</td>\n",
              "      <td>0.524554</td>\n",
              "      <td>00:07</td>\n",
              "    </tr>\n",
              "    <tr>\n",
              "      <td>4</td>\n",
              "      <td>1.129240</td>\n",
              "      <td>2.784894</td>\n",
              "      <td>0.524509</td>\n",
              "      <td>00:07</td>\n",
              "    </tr>\n",
              "  </tbody>\n",
              "</table>"
            ],
            "text/plain": [
              "<IPython.core.display.HTML object>"
            ]
          },
          "metadata": {
            "tags": []
          }
        }
      ]
    },
    {
      "cell_type": "code",
      "metadata": {
        "id": "CFty3qZbt1yZ",
        "colab_type": "code",
        "colab": {
          "base_uri": "https://localhost:8080/",
          "height": 72
        },
        "outputId": "863ab608-fc85-4059-ba37-dfb364725def"
      },
      "source": [
        "TEXT='Iphone is costly '\n",
        "N_WORDS=40\n",
        "N_SENTENCES=2\n",
        "print(\"\\n\".join(learn.predict(TEXT, N_WORDS, temperature=0.75) for _ in range(N_SENTENCES)))"
      ],
      "execution_count": 159,
      "outputs": [
        {
          "output_type": "stream",
          "text": [
            "Iphone is costly  up . Will not even get in for an ipad 2 . # SXSW xxbos Getting ready for my ipad 2 vs Android panel at # SXSW today ! All you need ?\n",
            "Iphone is costly  out of the power of power needs on iphone vs Android vs The Heart at # sxsw . { link } xxbos RT @mention Google to Launch Major New Social\n"
          ],
          "name": "stdout"
        }
      ]
    },
    {
      "cell_type": "code",
      "metadata": {
        "id": "wVfVT-k0t1u9",
        "colab_type": "code",
        "colab": {}
      },
      "source": [
        "learn.save_encoder('fine_tuned')"
      ],
      "execution_count": 160,
      "outputs": []
    },
    {
      "cell_type": "code",
      "metadata": {
        "id": "8CKr3x-ruxF-",
        "colab_type": "code",
        "colab": {
          "base_uri": "https://localhost:8080/",
          "height": 17
        },
        "outputId": "81d28d37-3504-4018-ab56-90665c0fd25a"
      },
      "source": [
        "#Classification\n",
        "text= (TextList.from_csv(path=path, csv_name='tweet.csv', cols='tweet', vocab=text_enc.vocab)\n",
        "                        .split_by_rand_pct(0.2 , seed= 30)\n",
        "                        .label_from_df(cols='target')\n",
        "                        .add_test(TextList.from_csv(path=path, csv_name='test.csv', cols='tweet'))\n",
        "                        .databunch(bs=20))"
      ],
      "execution_count": 161,
      "outputs": [
        {
          "output_type": "display_data",
          "data": {
            "text/html": [
              ""
            ],
            "text/plain": [
              "<IPython.core.display.HTML object>"
            ]
          },
          "metadata": {
            "tags": []
          }
        },
        {
          "output_type": "display_data",
          "data": {
            "text/html": [
              ""
            ],
            "text/plain": [
              "<IPython.core.display.HTML object>"
            ]
          },
          "metadata": {
            "tags": []
          }
        },
        {
          "output_type": "display_data",
          "data": {
            "text/html": [
              ""
            ],
            "text/plain": [
              "<IPython.core.display.HTML object>"
            ]
          },
          "metadata": {
            "tags": []
          }
        }
      ]
    },
    {
      "cell_type": "code",
      "metadata": {
        "id": "5ha29uVauw0C",
        "colab_type": "code",
        "colab": {
          "base_uri": "https://localhost:8080/",
          "height": 363
        },
        "outputId": "be706a92-b2e6-4f3e-d8c9-1840abc66861"
      },
      "source": [
        "text.show_batch()"
      ],
      "execution_count": 162,
      "outputs": [
        {
          "output_type": "display_data",
          "data": {
            "text/html": [
              "<table border=\"1\" class=\"dataframe\">\n",
              "  <thead>\n",
              "    <tr style=\"text-align: right;\">\n",
              "      <th>text</th>\n",
              "      <th>target</th>\n",
              "    </tr>\n",
              "  </thead>\n",
              "  <tbody>\n",
              "    <tr>\n",
              "      <td>xxbos xxmaj ca n't believe i got in xxup and got a seat ! &amp; ' xxmaj google &amp; &amp; xxmaj bing xxmaj on xxmaj website xxmaj ranking at xxup sxsw . &amp; ' # xxup sxsw # qagb ( @mention xxmaj hilton , xxmaj salon j ) { link }</td>\n",
              "      <td>1</td>\n",
              "    </tr>\n",
              "    <tr>\n",
              "      <td>xxbos xxmaj another xxup xxunk from # xxup sxsw : &amp; ' xxmaj the xxmaj future of xxmaj reading xxmaj online xxmaj is xxmaj xxunk &amp; &amp; xxmaj sharing , xxmaj not xxmaj tablets ( xxmaj yet ) &amp; ' | xxmaj fast xxmaj company - { link }</td>\n",
              "      <td>1</td>\n",
              "    </tr>\n",
              "    <tr>\n",
              "      <td>xxbos xxup rt # xxup xxunk &gt; xxmaj hey xxmaj austin , know a little about # iphone or # xxmaj android , love music &amp; &amp; wanna make $ 20 / hour during # xxup sxsw ? xxmaj please let me know . : xxmaj hey ...</td>\n",
              "      <td>1</td>\n",
              "    </tr>\n",
              "    <tr>\n",
              "      <td>xxbos xxmaj which line at # xxup sxsw will be longer ? 3 / 11 at the temp xxmaj apple store for the ipad2 ? xxmaj or 3 / 14 at the xxmaj microsoft booth for xxup ie9 ? [ xxmaj yeah , right ! ] xxup :d</td>\n",
              "      <td>2</td>\n",
              "    </tr>\n",
              "    <tr>\n",
              "      <td>xxbos xxmaj xxunk in xxmaj austin . xxmaj spotted the xxmaj google xxmaj places xxmaj ads for # sxsw at the airport : &amp; ' xxmaj the xxmaj xxunk xxmaj austin xxmaj pocket xxmaj guide &amp; ' . xxmaj more like # xxmaj yelp than # xxunk</td>\n",
              "      <td>1</td>\n",
              "    </tr>\n",
              "  </tbody>\n",
              "</table>"
            ],
            "text/plain": [
              "<IPython.core.display.HTML object>"
            ]
          },
          "metadata": {
            "tags": []
          }
        }
      ]
    },
    {
      "cell_type": "code",
      "metadata": {
        "id": "yd61bSZQt1Ui",
        "colab_type": "code",
        "colab": {}
      },
      "source": [
        "learn=text_classifier_learner(text, AWD_LSTM, drop_mult=0.5)\n",
        "learn.load_encoder('fine_tuned')"
      ],
      "execution_count": null,
      "outputs": []
    },
    {
      "cell_type": "code",
      "metadata": {
        "id": "rQSAUmj3upS-",
        "colab_type": "code",
        "colab": {
          "base_uri": "https://localhost:8080/",
          "height": 111
        },
        "outputId": "8f8ecce0-cdd1-4b66-8059-3ddfe9acba6f"
      },
      "source": [
        "learn.lr_find()"
      ],
      "execution_count": 164,
      "outputs": [
        {
          "output_type": "display_data",
          "data": {
            "text/html": [
              "\n",
              "    <div>\n",
              "        <style>\n",
              "            /* Turns off some styling */\n",
              "            progress {\n",
              "                /* gets rid of default border in Firefox and Opera. */\n",
              "                border: none;\n",
              "                /* Needs to be in here for Safari polyfill so background images work as expected. */\n",
              "                background-size: auto;\n",
              "            }\n",
              "            .progress-bar-interrupted, .progress-bar-interrupted::-webkit-progress-bar {\n",
              "                background: #F44336;\n",
              "            }\n",
              "        </style>\n",
              "      <progress value='0' class='' max='1' style='width:300px; height:20px; vertical-align: middle;'></progress>\n",
              "      0.00% [0/1 00:00<00:00]\n",
              "    </div>\n",
              "    \n",
              "<table border=\"1\" class=\"dataframe\">\n",
              "  <thead>\n",
              "    <tr style=\"text-align: left;\">\n",
              "      <th>epoch</th>\n",
              "      <th>train_loss</th>\n",
              "      <th>valid_loss</th>\n",
              "      <th>accuracy</th>\n",
              "      <th>time</th>\n",
              "    </tr>\n",
              "  </thead>\n",
              "  <tbody>\n",
              "  </tbody>\n",
              "</table><p>\n",
              "\n",
              "    <div>\n",
              "        <style>\n",
              "            /* Turns off some styling */\n",
              "            progress {\n",
              "                /* gets rid of default border in Firefox and Opera. */\n",
              "                border: none;\n",
              "                /* Needs to be in here for Safari polyfill so background images work as expected. */\n",
              "                background-size: auto;\n",
              "            }\n",
              "            .progress-bar-interrupted, .progress-bar-interrupted::-webkit-progress-bar {\n",
              "                background: #F44336;\n",
              "            }\n",
              "        </style>\n",
              "      <progress value='90' class='' max='290' style='width:300px; height:20px; vertical-align: middle;'></progress>\n",
              "      31.03% [90/290 00:01<00:04 1.5182]\n",
              "    </div>\n",
              "    "
            ],
            "text/plain": [
              "<IPython.core.display.HTML object>"
            ]
          },
          "metadata": {
            "tags": []
          }
        },
        {
          "output_type": "stream",
          "text": [
            "LR Finder is complete, type {learner_name}.recorder.plot() to see the graph.\n"
          ],
          "name": "stdout"
        }
      ]
    },
    {
      "cell_type": "code",
      "metadata": {
        "id": "y2CXiYStuph2",
        "colab_type": "code",
        "colab": {
          "base_uri": "https://localhost:8080/",
          "height": 279
        },
        "outputId": "ed7f403f-9a8f-451f-8647-af58e3f86b09"
      },
      "source": [
        "learn.recorder.plot()"
      ],
      "execution_count": 165,
      "outputs": [
        {
          "output_type": "display_data",
          "data": {
            "image/png": "[encoded data removed]",
            "text/plain": [
              "<Figure size 432x288 with 1 Axes>"
            ]
          },
          "metadata": {
            "tags": [],
            "needs_background": "light"
          }
        }
      ]
    },
    {
      "cell_type": "code",
      "metadata": {
        "id": "KvpfBJE9upHK",
        "colab_type": "code",
        "colab": {
          "base_uri": "https://localhost:8080/",
          "height": 136
        },
        "outputId": "c237e58a-165d-4863-bc39-6329cc10a275"
      },
      "source": [
        "learn.fit_one_cycle(3, 2e-02)"
      ],
      "execution_count": 166,
      "outputs": [
        {
          "output_type": "display_data",
          "data": {
            "text/html": [
              "<table border=\"1\" class=\"dataframe\">\n",
              "  <thead>\n",
              "    <tr style=\"text-align: left;\">\n",
              "      <th>epoch</th>\n",
              "      <th>train_loss</th>\n",
              "      <th>valid_loss</th>\n",
              "      <th>accuracy</th>\n",
              "      <th>time</th>\n",
              "    </tr>\n",
              "  </thead>\n",
              "  <tbody>\n",
              "    <tr>\n",
              "      <td>0</td>\n",
              "      <td>0.913640</td>\n",
              "      <td>0.836887</td>\n",
              "      <td>0.616919</td>\n",
              "      <td>00:06</td>\n",
              "    </tr>\n",
              "    <tr>\n",
              "      <td>1</td>\n",
              "      <td>0.877187</td>\n",
              "      <td>0.955867</td>\n",
              "      <td>0.621733</td>\n",
              "      <td>00:06</td>\n",
              "    </tr>\n",
              "    <tr>\n",
              "      <td>2</td>\n",
              "      <td>0.830676</td>\n",
              "      <td>0.936325</td>\n",
              "      <td>0.629299</td>\n",
              "      <td>00:06</td>\n",
              "    </tr>\n",
              "  </tbody>\n",
              "</table>"
            ],
            "text/plain": [
              "<IPython.core.display.HTML object>"
            ]
          },
          "metadata": {
            "tags": []
          }
        }
      ]
    },
    {
      "cell_type": "code",
      "metadata": {
        "id": "34yJsg_Btd90",
        "colab_type": "code",
        "colab": {
          "base_uri": "https://localhost:8080/",
          "height": 195
        },
        "outputId": "69ab421a-3e32-4895-8dad-90c9b96622f2"
      },
      "source": [
        "learn.freeze_to(-2)\n",
        "learn.fit_one_cycle(5, slice(1e-2/(2.6**4),1e-2), moms=(0.8,0.7))"
      ],
      "execution_count": 168,
      "outputs": [
        {
          "output_type": "display_data",
          "data": {
            "text/html": [
              "<table border=\"1\" class=\"dataframe\">\n",
              "  <thead>\n",
              "    <tr style=\"text-align: left;\">\n",
              "      <th>epoch</th>\n",
              "      <th>train_loss</th>\n",
              "      <th>valid_loss</th>\n",
              "      <th>accuracy</th>\n",
              "      <th>time</th>\n",
              "    </tr>\n",
              "  </thead>\n",
              "  <tbody>\n",
              "    <tr>\n",
              "      <td>0</td>\n",
              "      <td>0.675673</td>\n",
              "      <td>0.776182</td>\n",
              "      <td>0.682944</td>\n",
              "      <td>00:07</td>\n",
              "    </tr>\n",
              "    <tr>\n",
              "      <td>1</td>\n",
              "      <td>0.710193</td>\n",
              "      <td>0.761371</td>\n",
              "      <td>0.684319</td>\n",
              "      <td>00:07</td>\n",
              "    </tr>\n",
              "    <tr>\n",
              "      <td>2</td>\n",
              "      <td>0.641454</td>\n",
              "      <td>0.799944</td>\n",
              "      <td>0.685007</td>\n",
              "      <td>00:07</td>\n",
              "    </tr>\n",
              "    <tr>\n",
              "      <td>3</td>\n",
              "      <td>0.550616</td>\n",
              "      <td>0.818132</td>\n",
              "      <td>0.687758</td>\n",
              "      <td>00:07</td>\n",
              "    </tr>\n",
              "    <tr>\n",
              "      <td>4</td>\n",
              "      <td>0.516426</td>\n",
              "      <td>0.810610</td>\n",
              "      <td>0.692572</td>\n",
              "      <td>00:07</td>\n",
              "    </tr>\n",
              "  </tbody>\n",
              "</table>"
            ],
            "text/plain": [
              "<IPython.core.display.HTML object>"
            ]
          },
          "metadata": {
            "tags": []
          }
        }
      ]
    },
    {
      "cell_type": "code",
      "metadata": {
        "id": "9TMbSNXG0pGK",
        "colab_type": "code",
        "colab": {
          "base_uri": "https://localhost:8080/",
          "height": 195
        },
        "outputId": "1bae9e22-d149-4bed-a187-281dc5eee40b"
      },
      "source": [
        "learn.freeze_to(-3)\n",
        "learn.fit_one_cycle(5, slice(1e-3/(2.6**4),1e-3), moms=(0.8,0.7))"
      ],
      "execution_count": 170,
      "outputs": [
        {
          "output_type": "display_data",
          "data": {
            "text/html": [
              "<table border=\"1\" class=\"dataframe\">\n",
              "  <thead>\n",
              "    <tr style=\"text-align: left;\">\n",
              "      <th>epoch</th>\n",
              "      <th>train_loss</th>\n",
              "      <th>valid_loss</th>\n",
              "      <th>accuracy</th>\n",
              "      <th>time</th>\n",
              "    </tr>\n",
              "  </thead>\n",
              "  <tbody>\n",
              "    <tr>\n",
              "      <td>0</td>\n",
              "      <td>0.488105</td>\n",
              "      <td>0.834425</td>\n",
              "      <td>0.683631</td>\n",
              "      <td>00:11</td>\n",
              "    </tr>\n",
              "    <tr>\n",
              "      <td>1</td>\n",
              "      <td>0.499188</td>\n",
              "      <td>0.851663</td>\n",
              "      <td>0.676754</td>\n",
              "      <td>00:12</td>\n",
              "    </tr>\n",
              "    <tr>\n",
              "      <td>2</td>\n",
              "      <td>0.449226</td>\n",
              "      <td>0.876812</td>\n",
              "      <td>0.688446</td>\n",
              "      <td>00:11</td>\n",
              "    </tr>\n",
              "    <tr>\n",
              "      <td>3</td>\n",
              "      <td>0.411238</td>\n",
              "      <td>0.904483</td>\n",
              "      <td>0.686382</td>\n",
              "      <td>00:11</td>\n",
              "    </tr>\n",
              "    <tr>\n",
              "      <td>4</td>\n",
              "      <td>0.423916</td>\n",
              "      <td>0.894557</td>\n",
              "      <td>0.689133</td>\n",
              "      <td>00:11</td>\n",
              "    </tr>\n",
              "  </tbody>\n",
              "</table>"
            ],
            "text/plain": [
              "<IPython.core.display.HTML object>"
            ]
          },
          "metadata": {
            "tags": []
          }
        }
      ]
    },
    {
      "cell_type": "code",
      "metadata": {
        "id": "GA_9AjQn0o4n",
        "colab_type": "code",
        "colab": {
          "base_uri": "https://localhost:8080/",
          "height": 195
        },
        "outputId": "73738b66-5c5a-4cfb-f635-a9d7219d3e66"
      },
      "source": [
        "learn.unfreeze()\n",
        "learn.fit_one_cycle(5, slice(1e-3/(2.6**4),1e-2), moms=(0.8,0.7))"
      ],
      "execution_count": 177,
      "outputs": [
        {
          "output_type": "display_data",
          "data": {
            "text/html": [
              "<table border=\"1\" class=\"dataframe\">\n",
              "  <thead>\n",
              "    <tr style=\"text-align: left;\">\n",
              "      <th>epoch</th>\n",
              "      <th>train_loss</th>\n",
              "      <th>valid_loss</th>\n",
              "      <th>accuracy</th>\n",
              "      <th>time</th>\n",
              "    </tr>\n",
              "  </thead>\n",
              "  <tbody>\n",
              "    <tr>\n",
              "      <td>0</td>\n",
              "      <td>0.931322</td>\n",
              "      <td>0.856713</td>\n",
              "      <td>0.616231</td>\n",
              "      <td>00:15</td>\n",
              "    </tr>\n",
              "    <tr>\n",
              "      <td>1</td>\n",
              "      <td>0.818278</td>\n",
              "      <td>0.809470</td>\n",
              "      <td>0.633425</td>\n",
              "      <td>00:14</td>\n",
              "    </tr>\n",
              "    <tr>\n",
              "      <td>2</td>\n",
              "      <td>0.773593</td>\n",
              "      <td>0.756184</td>\n",
              "      <td>0.682944</td>\n",
              "      <td>00:15</td>\n",
              "    </tr>\n",
              "    <tr>\n",
              "      <td>3</td>\n",
              "      <td>0.651175</td>\n",
              "      <td>0.750894</td>\n",
              "      <td>0.694636</td>\n",
              "      <td>00:15</td>\n",
              "    </tr>\n",
              "    <tr>\n",
              "      <td>4</td>\n",
              "      <td>0.538369</td>\n",
              "      <td>0.791272</td>\n",
              "      <td>0.686382</td>\n",
              "      <td>00:15</td>\n",
              "    </tr>\n",
              "  </tbody>\n",
              "</table>"
            ],
            "text/plain": [
              "<IPython.core.display.HTML object>"
            ]
          },
          "metadata": {
            "tags": []
          }
        }
      ]
    },
    {
      "cell_type": "code",
      "metadata": {
        "id": "Xawj_gNk0SUH",
        "colab_type": "code",
        "colab": {
          "base_uri": "https://localhost:8080/",
          "height": 17
        },
        "outputId": "bdf9fa73-83c2-409f-d820-e15cfe53b01e"
      },
      "source": [
        "preds, y = learn.get_preds(DatasetType.Test)"
      ],
      "execution_count": 183,
      "outputs": [
        {
          "output_type": "display_data",
          "data": {
            "text/html": [
              ""
            ],
            "text/plain": [
              "<IPython.core.display.HTML object>"
            ]
          },
          "metadata": {
            "tags": []
          }
        }
      ]
    }
  ]
}